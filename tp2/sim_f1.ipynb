{
 "cells": [
  {
   "cell_type": "markdown",
   "metadata": {},
   "source": [
    "# Simulateur de $f_1$\n",
    "\n",
    "\n",
    "$$\\begin{array}{rrcll}\n",
    "f: & \\mathbb{R}^n & \\to &\\mathbb{R}\\\\\n",
    "& x & \\mapsto  & \\sum_{k=1}^n k x_k^2\n",
    "\\end{array}$$\n"
   ]
  },
  {
   "cell_type": "markdown",
   "metadata": {},
   "source": [
    "### Paramètres"
   ]
  },
  {
   "cell_type": "code",
   "execution_count": 1,
   "metadata": {
    "collapsed": false,
    "jupyter": {
     "outputs_hidden": false
    }
   },
   "outputs": [],
   "source": [
    "##### Size parameters\n",
    "n = 2\n",
    "####\n",
    "\n",
    "##### Plot parameters f\n",
    "x1_min = -5\n",
    "x1_max = 5\n",
    "x2_min = -5\n",
    "x2_max = 5\n",
    "nb_points = 200\n",
    "vmin = 0\n",
    "vmax = 30\n",
    "levels = [0.25,1,2,5,10,15]\n",
    "title = 'f1'\n",
    "####"
   ]
  },
  {
   "cell_type": "markdown",
   "metadata": {},
   "source": [
    "### Simulateur\n"
   ]
  },
  {
   "cell_type": "code",
   "execution_count": 2,
   "metadata": {
    "tags": []
   },
   "outputs": [],
   "source": [
    "import numpy as np\n",
    "\n",
    "def sim(x):\n",
    "    n = len(x)\n",
    "    \n",
    "    k = np.arange(1, n+1)\n",
    "    assert k.shape == (n,)\n",
    "    \n",
    "    f = np.dot(k, x**2)\n",
    "    \n",
    "    g = 2 * k * x\n",
    "    assert g.shape == (n,)\n",
    "    \n",
    "    return f,g\n"
   ]
  },
  {
   "cell_type": "code",
   "execution_count": null,
   "metadata": {},
   "outputs": [],
   "source": []
  }
 ],
 "metadata": {
  "kernelspec": {
   "display_name": "Python 3 (ipykernel)",
   "language": "python",
   "name": "python3"
  },
  "language_info": {
   "codemirror_mode": {
    "name": "ipython",
    "version": 3
   },
   "file_extension": ".py",
   "mimetype": "text/x-python",
   "name": "python",
   "nbconvert_exporter": "python",
   "pygments_lexer": "ipython3",
   "version": "3.11.5"
  }
 },
 "nbformat": 4,
 "nbformat_minor": 4
}
