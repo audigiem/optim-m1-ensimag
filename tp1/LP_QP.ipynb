{
 "cells": [
  {
   "cell_type": "markdown",
   "metadata": {},
   "source": [
    "<center><img src=\"Fig/Ensimag.png\" width=\"30%\" height=\"30%\"></center>\n",
    "<center><h3>ENSIMAG  -- 2A</h3></center>\n",
    "<hr>\n",
    "<center><h1>Optimisation Numérique</h1></center>\n",
    "<center><h2>TP : Linear and Quadratic programs (1.5h)</h2></center>"
   ]
  },
  {
   "cell_type": "markdown",
   "metadata": {},
   "source": [
    "# Structure of an optimization program\n",
    "\n",
    "An optimization program can be practically divided into three parts:\n",
    "* the *run* environment, in which you test, run your program, and display results.\n",
    "* the *problem* part, which contains the function oracles, problem constraints, etc.\n",
    "* the *algorithmic* part, where the algorithms are coded.\n",
    "\n",
    "The main interest of such division is that these parts are interchangeable, meaning that, for instance, the algorithms of the third part can be used of a variety of problems. That is why such a decomposition is widely used.\n",
    "\n",
    "In the present lab, you will use this division:\n",
    "* `LP_and_QP_problems.ipynb` will be the *run* environment\n",
    "* `toy_problem.ipynb` will be the considered the *problem* for this lab\n",
    "* the library `cvxopt` will be used for solving all optimization problems\n",
    "\n",
    "---\n",
    "\n",
    "The following script will allow you to import *notebooks* as if you imported *python files* and will have to be executed at each time you launch Jupyter notebooks."
   ]
  },
  {
   "cell_type": "code",
   "execution_count": 1,
   "metadata": {},
   "outputs": [],
   "source": [
    "import start\n",
    "from importlib import reload"
   ]
  },
  {
   "cell_type": "markdown",
   "metadata": {},
   "source": [
    "---\n",
    "\n",
    "# Regression model\n",
    "\n",
    "\n",
    "We consider the regression model\n",
    "\n",
    "$$ y=X\\theta+\\xi,\\;\\;\\xi\\sim \\mathcal{N}(0, \\sigma I_m), $$\n",
    "\n",
    "where $X\\in \\mathbb{R}^{m\\times n}$ and $y\\in \\mathbb{R}^m$ are the observed values and $\\theta\\in \\mathbb{R}^n$ is the unknown parameter we want to find. \n",
    "\n",
    "We want to find a value $\\widehat{\\theta}$ such that \n",
    "- the quadratic error $e(\\widehat{\\theta}) = 1/2 \\|X\\widehat{\\theta} - y \\|_2^2$ is (near)-minimal, that is $ \\| \\nabla e(\\widehat{\\theta}) \\| = \\| X^\\mathrm{T} (X\\widehat{\\theta} - y) \\| $ is small."
   ]
  },
  {
   "cell_type": "markdown",
   "metadata": {},
   "source": [
    "---\n",
    "\n",
    "# the Dantzig Selector\n",
    "\n",
    "\n",
    "The **Dantzig Selector** for $\\theta$, introduced in *Emmanuel Candes and Terrence Tao \"The Dantzig selector: Statistical estimation when $p$ is much larger than $n$\". The Annals of Statistics, 2007* can be used to estimate $\\theta$ in the case of an overparametrized problem, i.e. when the dimension $n$ of $\\theta$ is well greater than the dimension of the observation $y$. \n",
    "\n",
    "\n",
    "\n",
    "\n",
    "In that case, the estimator $\\widehat{\\theta}_{DS}$ is the solution of the optimization problem \n",
    "$$\n",
    "\\widehat{\\theta}_{DS} \\in \\arg\\min_{\\theta\\in \\mathbb{R}^n} \\left\\{\\|\\theta\\|_1,\\;\\mbox{with}\\;\\|X^T(X\\theta-y)\\|_\\infty\\leq \\kappa\\sigma\\right\\},\n",
    "$$\n",
    "where $\\kappa>0$ is an *hyper-parameter*. \n",
    "\n",
    "\n",
    "The best theoretical value for $\\kappa$ is $\\nu q_{\\mathcal{N}} \\left(1-\\frac{\\alpha}{2n}\\right)$, where  $\\alpha\\in(0,1)$ is the chosen risk level (e.g. $\\alpha=.05$), $q_\\mathcal{N}(p)$ is the $p$-quantile of the standard normal distribution, and $\\nu=\\max_j\\|[X]_j\\|_2$ is the maximal column norm of matrix $X$.\n",
    "\n",
    "\n",
    "**Objective:** Implement a function that return the Dantzig estimator $\\widehat{\\theta}_{DS}$ from input $(y,X,\\sigma)$ using linear programming solver `cvxopt`."
   ]
  },
  {
   "cell_type": "markdown",
   "metadata": {},
   "source": [
    "> Reformulate the $\\arg\\min$ problem as a linear program.\n",
    "\n",
    "\n",
    "> Write a function `DantzigSelector` that takes `y,X,sigma` as an input and outputs $\\widehat{\\theta}_{DS}$ by using the linear program solver of the library `cvxopt` <a href=\"http://cvxopt.org/userguide/coneprog.html#linear-programming\">lp</a> which, given $c, G, h$ solves the problem\n",
    "$$ \\min_x c^\\mathrm{T}x ~~~~~~ \\text{ subject to } Gx \\leq h $$\n",
    "where the inequality is elementwise.\n",
    "\n",
    "*Hint: Useful functions are* `np.concatenate` `np.zeros` `np.eye` `np.hstack` `np.vstack`"
   ]
  },
  {
   "cell_type": "code",
   "execution_count": 2,
   "metadata": {},
   "outputs": [],
   "source": [
    "from cvxopt import matrix, solvers\n",
    "\n",
    "from scipy.stats import norm\n",
    "import numpy as np\n",
    "\n",
    "def DantzigSelector(y, X, sigma):\n",
    "    \"\"\"\n",
    "    Compute the Dantzig Selector estimator.\n",
    "    \n",
    "    Parameters:\n",
    "    y (numpy.ndarray): Observation vector.\n",
    "    X (numpy.ndarray): Design matrix.\n",
    "    sigma (float): Noise level.\n",
    "    \n",
    "    Returns:\n",
    "    numpy.ndarray: The Dantzig Selector estimator.\n",
    "    \"\"\"\n",
    "    \n",
    "    n = X.shape[1]\n",
    "    \n",
    "    # Compute the hyper-parameter kappa\n",
    "    alpha = 0.05\n",
    "    nu = max(np.linalg.norm(X, axis=0))\n",
    "    kappa = nu*norm.ppf(1-alpha/(2.0*n))\n",
    "    \n",
    "    # Define the linear program components\n",
    "    c = np.concatenate([np.ones(n), np.zeros(n)])\n",
    "    G = np.vstack([\n",
    "        np.hstack([X.T @ X, -X.T @ X]),\n",
    "        np.hstack([-X.T @ X, X.T @ X]),\n",
    "        np.hstack([-np.eye(n), np.zeros((n, n))]),\n",
    "        np.hstack([np.zeros((n, n)), -np.eye(n)])\n",
    "    ])\n",
    "    h = np.concatenate([\n",
    "        X.T @ y + kappa * sigma * np.ones(n),\n",
    "        -X.T @ y + kappa * sigma * np.ones(n),\n",
    "        np.zeros(n),\n",
    "        np.zeros(n)\n",
    "    ])\n",
    "    \n",
    "    # Convert to cvxopt matrices\n",
    "    c = matrix(c)\n",
    "    G = matrix(G)\n",
    "    h = matrix(h)\n",
    "    \n",
    "    # Solve the linear program\n",
    "    sol = solvers.lp(c, G, h)\n",
    "    \n",
    "    # Extract the solution\n",
    "    theta_ds = np.array(sol['x'][:n])\n",
    "    \n",
    "    return theta_ds"
   ]
  },
  {
   "cell_type": "markdown",
   "metadata": {},
   "source": [
    "> Test your code on the toy problem given in `toy_problem.ipynb`. For this randomly generated problem, there is a true $\\theta$ upon which the problem is built."
   ]
  },
  {
   "cell_type": "code",
   "execution_count": 3,
   "metadata": {},
   "outputs": [
    {
     "name": "stdout",
     "output_type": "stream",
     "text": [
      "importing notebook from toy_problem.ipynb\n",
      "importing notebook from toy_problem.ipynb\n",
      "     pcost       dcost       gap    pres   dres   k/t\n",
      " 0: -2.8517e-01 -3.0477e+02  2e+03  3e+00  2e+00  1e+00\n",
      " 1:  1.1094e+00 -4.4400e+01  2e+02  5e-01  3e-01  2e+00\n",
      " 2: -8.0544e-01 -6.5734e+00  2e+01  7e-02  4e-02  3e-01\n",
      " 3: -1.0945e-02 -8.1539e-02  2e-01  8e-04  5e-04  5e-03\n",
      " 4: -1.0940e-04 -8.1499e-04  2e-03  8e-06  5e-06  5e-05\n",
      " 5: -1.0940e-06 -8.1499e-06  2e-05  8e-08  5e-08  5e-07\n",
      " 6: -1.0940e-08 -8.1499e-08  2e-07  8e-10  5e-10  5e-09\n",
      " 7: -1.0940e-10 -8.1499e-10  2e-09  8e-12  5e-12  5e-11\n",
      "Optimal solution found.\n"
     ]
    }
   ],
   "source": [
    "import toy_problem as tPb\n",
    "reload(tPb)\n",
    "\n",
    "\n",
    "theta_ds = DantzigSelector(tPb.y,tPb.X,tPb.sigma)\n"
   ]
  },
  {
   "cell_type": "markdown",
   "metadata": {},
   "source": [
    "> Investigate the differences between the Dantzig selector and the Ground truth"
   ]
  },
  {
   "cell_type": "code",
   "execution_count": 4,
   "metadata": {},
   "outputs": [
    {
     "data": {
      "image/png": "[encoded data removed]",
      "text/plain": [
       "<Figure size 640x480 with 1 Axes>"
      ]
     },
     "metadata": {},
     "output_type": "display_data"
    }
   ],
   "source": [
    "import matplotlib.pyplot as plt\n",
    "%matplotlib inline\n",
    "\n",
    "plt.figure()\n",
    "plt.plot(tPb.theta,'ro',label='ground truth')\n",
    "plt.plot(theta_ds,'b*',label='Dantzig selector')\n",
    "plt.legend()\n",
    "plt.show()"
   ]
  },
  {
   "cell_type": "markdown",
   "metadata": {},
   "source": [
    "---\n",
    "\n",
    "# the Lasso\n",
    "\n",
    "Under the same regression model, the Least Absolute Shrinkage and Selection Operator or **lasso** for $\\theta$, introduced in *Robert Tibshirani \"Regression shrinkage and selection via the lasso\", Journal of the Royal Statistical Society, 1996* can also be used to estimate $\\theta$. \n",
    "\n",
    "The estimator $\\widehat{\\theta}_{L}$ is the solution of the optimization problem \n",
    "$$\n",
    "\\widehat{\\theta}_{L} \\in \\arg\\min_{\\theta\\in \\mathbb{R}^n} \\left\\{ \\|X\\theta - y\\|_2^2 + \\kappa \\sigma \\|\\theta\\|_1 \\right\\},\n",
    "$$\n",
    "where $\\kappa>0$ is an *hyper-parameter*. \n",
    "\n",
    "\n",
    "The best theoretical value for $\\kappa$ is the same as for the Dantzig selector: $\\nu q_{\\mathcal{N}} \\left(1-\\frac{\\alpha}{2n}\\right)$, where  $\\alpha\\in(0,1)$ is the chosen risk level (e.g. $\\alpha=.05$), $q_\\mathcal{N}(p)$ is the $p$-quantile of the standard normal distribution, and $\\nu=\\max_j\\|[X]_j\\|_2$ is the maximal column norm of matrix $X$.\n",
    "\n",
    "\n",
    "**Objective:** Implement a function that return the lasso estimator $\\widehat{\\theta}_{L}$ from input $(y,X,\\sigma)$ using quadratic programming solver `cvxopt`.\n"
   ]
  },
  {
   "cell_type": "markdown",
   "metadata": {},
   "source": [
    "> Reformulate the $\\arg\\min$ problem as a quadratic program.\n",
    "\n",
    "\n",
    "> Write a function `Lasso` that takes `y,X,sigma` as an input and outputs $\\widehat{\\theta}_{L}$ by using the quadratic program solver of the library `cvxopt` <a href=\"http://cvxopt.org/userguide/coneprog.html#quadratic-programming\">qp</a> which, given $P,q, G, h$ solves the problem\n",
    "$$ \\min_x 1/2 x^\\mathrm{T} P x + q^\\mathrm{T}x ~~~~~~ \\text{ subject to } Gx \\leq h $$\n",
    "where the inequality is elementwise.\n",
    "\n",
    "*Hint: Useful functions are* `np.concatenate` `np.zeros` `np.eye` `np.hstack` `np.vstack`"
   ]
  },
  {
   "cell_type": "code",
   "execution_count": 5,
   "metadata": {},
   "outputs": [],
   "source": [
    "from cvxopt import matrix, solvers\n",
    "\n",
    "from scipy.stats import norm\n",
    "import numpy as np\n",
    "\n",
    "def Lasso(y,X,sigma):\n",
    "    \n",
    "    # Extracting the sizes\n",
    "    m,n = X.shape\n",
    "    \n",
    "    # Computing kappa\n",
    "    alpha = 0.05\n",
    "    nu = max(np.linalg.norm(X, axis=0))\n",
    "    kappa = nu*norm.ppf(1-alpha/(2.0*n))\n",
    "    \n",
    "    #####################################################\n",
    "    # COMPUTE AND SOLVE QP PROBLEM\n",
    "    #####################################################\n",
    "    # Prepare P, q, G, h\n",
    "    P = np.block([[np.eye(n), np.zeros((n,m))], [np.zeros((m,n)), np.zeros((m,m))]])\n",
    "    q = np.block([np.zeros(n), kappa*np.ones(m)])\n",
    "    G = np.block([[X.T, -np.eye(m)], [-X.T, -np.eye(m)]])\n",
    "    h = np.block([y, -y])\n",
    "    \n",
    "    \n",
    "    P_cvx = matrix(P)\n",
    "    q_cvx = matrix(q)\n",
    "    G_cvx = matrix(G)\n",
    "    h_cvx = matrix(h)\n",
    "    \n",
    "    sol = solvers.qp(P_cvx, q_cvx, G_cvx, h_cvx)\n",
    "    x_cvx = sol['x']\n",
    "    # x = np.squeeze(np.array(x_cvx))\n",
    "    x = np.array(x_cvx).flatten()\n",
    "    \n",
    "    # Extract theta    \n",
    "    theta = x[:n]\n",
    "\n",
    "    \n",
    "    return theta"
   ]
  },
  {
   "cell_type": "markdown",
   "metadata": {},
   "source": [
    "> Test your code on the toy problem given in `toy_problem.ipynb`. For this randomly generated problem, there is a true $\\theta$ upon which the problem is built."
   ]
  },
  {
   "cell_type": "code",
   "execution_count": 7,
   "metadata": {},
   "outputs": [
    {
     "name": "stdout",
     "output_type": "stream",
     "text": [
      "importing notebook from toy_problem.ipynb\n"
     ]
    },
    {
     "ename": "ValueError",
     "evalue": "all the input array dimensions except for the concatenation axis must match exactly, but along dimension 0, the array at index 0 has size 256 and the array at index 1 has size 72",
     "output_type": "error",
     "traceback": [
      "\u001b[0;31m---------------------------------------------------------------------------\u001b[0m",
      "\u001b[0;31mValueError\u001b[0m                                Traceback (most recent call last)",
      "Cell \u001b[0;32mIn[7], line 5\u001b[0m\n\u001b[1;32m      1\u001b[0m \u001b[38;5;28;01mimport\u001b[39;00m\u001b[38;5;250m \u001b[39m\u001b[38;5;21;01mtoy_problem\u001b[39;00m\u001b[38;5;250m \u001b[39m\u001b[38;5;28;01mas\u001b[39;00m\u001b[38;5;250m \u001b[39m\u001b[38;5;21;01mtPb\u001b[39;00m\n\u001b[1;32m      2\u001b[0m reload(tPb)\n\u001b[0;32m----> 5\u001b[0m theta_l \u001b[38;5;241m=\u001b[39m \u001b[43mLasso\u001b[49m\u001b[43m(\u001b[49m\u001b[43mtPb\u001b[49m\u001b[38;5;241;43m.\u001b[39;49m\u001b[43my\u001b[49m\u001b[43m,\u001b[49m\u001b[43mtPb\u001b[49m\u001b[38;5;241;43m.\u001b[39;49m\u001b[43mX\u001b[49m\u001b[43m,\u001b[49m\u001b[43mtPb\u001b[49m\u001b[38;5;241;43m.\u001b[39;49m\u001b[43msigma\u001b[49m\u001b[43m)\u001b[49m\n",
      "Cell \u001b[0;32mIn[5], line 22\u001b[0m, in \u001b[0;36mLasso\u001b[0;34m(y, X, sigma)\u001b[0m\n\u001b[1;32m     20\u001b[0m P \u001b[38;5;241m=\u001b[39m np\u001b[38;5;241m.\u001b[39mblock([[np\u001b[38;5;241m.\u001b[39meye(n), np\u001b[38;5;241m.\u001b[39mzeros((n,m))], [np\u001b[38;5;241m.\u001b[39mzeros((m,n)), np\u001b[38;5;241m.\u001b[39mzeros((m,m))]])\n\u001b[1;32m     21\u001b[0m q \u001b[38;5;241m=\u001b[39m np\u001b[38;5;241m.\u001b[39mblock([np\u001b[38;5;241m.\u001b[39mzeros(n), kappa\u001b[38;5;241m*\u001b[39mnp\u001b[38;5;241m.\u001b[39mones(m)])\n\u001b[0;32m---> 22\u001b[0m G \u001b[38;5;241m=\u001b[39m \u001b[43mnp\u001b[49m\u001b[38;5;241;43m.\u001b[39;49m\u001b[43mblock\u001b[49m\u001b[43m(\u001b[49m\u001b[43m[\u001b[49m\u001b[43m[\u001b[49m\u001b[43mX\u001b[49m\u001b[38;5;241;43m.\u001b[39;49m\u001b[43mT\u001b[49m\u001b[43m,\u001b[49m\u001b[43m \u001b[49m\u001b[38;5;241;43m-\u001b[39;49m\u001b[43mnp\u001b[49m\u001b[38;5;241;43m.\u001b[39;49m\u001b[43meye\u001b[49m\u001b[43m(\u001b[49m\u001b[43mm\u001b[49m\u001b[43m)\u001b[49m\u001b[43m]\u001b[49m\u001b[43m,\u001b[49m\u001b[43m \u001b[49m\u001b[43m[\u001b[49m\u001b[38;5;241;43m-\u001b[39;49m\u001b[43mX\u001b[49m\u001b[38;5;241;43m.\u001b[39;49m\u001b[43mT\u001b[49m\u001b[43m,\u001b[49m\u001b[43m \u001b[49m\u001b[38;5;241;43m-\u001b[39;49m\u001b[43mnp\u001b[49m\u001b[38;5;241;43m.\u001b[39;49m\u001b[43meye\u001b[49m\u001b[43m(\u001b[49m\u001b[43mm\u001b[49m\u001b[43m)\u001b[49m\u001b[43m]\u001b[49m\u001b[43m]\u001b[49m\u001b[43m)\u001b[49m\n\u001b[1;32m     23\u001b[0m h \u001b[38;5;241m=\u001b[39m np\u001b[38;5;241m.\u001b[39mblock([y, \u001b[38;5;241m-\u001b[39my])\n\u001b[1;32m     26\u001b[0m P_cvx \u001b[38;5;241m=\u001b[39m matrix(P)\n",
      "File \u001b[0;32m~/.local/lib/python3.10/site-packages/numpy/core/shape_base.py:872\u001b[0m, in \u001b[0;36mblock\u001b[0;34m(arrays)\u001b[0m\n\u001b[1;32m    870\u001b[0m     \u001b[38;5;28;01mreturn\u001b[39;00m _block_slicing(arrays, list_ndim, result_ndim)\n\u001b[1;32m    871\u001b[0m \u001b[38;5;28;01melse\u001b[39;00m:\n\u001b[0;32m--> 872\u001b[0m     \u001b[38;5;28;01mreturn\u001b[39;00m \u001b[43m_block_concatenate\u001b[49m\u001b[43m(\u001b[49m\u001b[43marrays\u001b[49m\u001b[43m,\u001b[49m\u001b[43m \u001b[49m\u001b[43mlist_ndim\u001b[49m\u001b[43m,\u001b[49m\u001b[43m \u001b[49m\u001b[43mresult_ndim\u001b[49m\u001b[43m)\u001b[49m\n",
      "File \u001b[0;32m~/.local/lib/python3.10/site-packages/numpy/core/shape_base.py:916\u001b[0m, in \u001b[0;36m_block_concatenate\u001b[0;34m(arrays, list_ndim, result_ndim)\u001b[0m\n\u001b[1;32m    915\u001b[0m \u001b[38;5;28;01mdef\u001b[39;00m\u001b[38;5;250m \u001b[39m\u001b[38;5;21m_block_concatenate\u001b[39m(arrays, list_ndim, result_ndim):\n\u001b[0;32m--> 916\u001b[0m     result \u001b[38;5;241m=\u001b[39m \u001b[43m_block\u001b[49m\u001b[43m(\u001b[49m\u001b[43marrays\u001b[49m\u001b[43m,\u001b[49m\u001b[43m \u001b[49m\u001b[43mlist_ndim\u001b[49m\u001b[43m,\u001b[49m\u001b[43m \u001b[49m\u001b[43mresult_ndim\u001b[49m\u001b[43m)\u001b[49m\n\u001b[1;32m    917\u001b[0m     \u001b[38;5;28;01mif\u001b[39;00m list_ndim \u001b[38;5;241m==\u001b[39m \u001b[38;5;241m0\u001b[39m:\n\u001b[1;32m    918\u001b[0m         \u001b[38;5;66;03m# Catch an edge case where _block returns a view because\u001b[39;00m\n\u001b[1;32m    919\u001b[0m         \u001b[38;5;66;03m# `arrays` is a single numpy array and not a list of numpy arrays.\u001b[39;00m\n\u001b[1;32m    920\u001b[0m         \u001b[38;5;66;03m# This might copy scalars or lists twice, but this isn't a likely\u001b[39;00m\n\u001b[1;32m    921\u001b[0m         \u001b[38;5;66;03m# usecase for those interested in performance\u001b[39;00m\n\u001b[1;32m    922\u001b[0m         result \u001b[38;5;241m=\u001b[39m result\u001b[38;5;241m.\u001b[39mcopy()\n",
      "File \u001b[0;32m~/.local/lib/python3.10/site-packages/numpy/core/shape_base.py:683\u001b[0m, in \u001b[0;36m_block\u001b[0;34m(arrays, max_depth, result_ndim, depth)\u001b[0m\n\u001b[1;32m    674\u001b[0m \u001b[38;5;250m\u001b[39m\u001b[38;5;124;03m\"\"\"\u001b[39;00m\n\u001b[1;32m    675\u001b[0m \u001b[38;5;124;03mInternal implementation of block based on repeated concatenation.\u001b[39;00m\n\u001b[1;32m    676\u001b[0m \u001b[38;5;124;03m`arrays` is the argument passed to\u001b[39;00m\n\u001b[0;32m   (...)\u001b[0m\n\u001b[1;32m    680\u001b[0m \u001b[38;5;124;03mfor details).\u001b[39;00m\n\u001b[1;32m    681\u001b[0m \u001b[38;5;124;03m\"\"\"\u001b[39;00m\n\u001b[1;32m    682\u001b[0m \u001b[38;5;28;01mif\u001b[39;00m depth \u001b[38;5;241m<\u001b[39m max_depth:\n\u001b[0;32m--> 683\u001b[0m     arrs \u001b[38;5;241m=\u001b[39m [_block(arr, max_depth, result_ndim, depth\u001b[38;5;241m+\u001b[39m\u001b[38;5;241m1\u001b[39m)\n\u001b[1;32m    684\u001b[0m             \u001b[38;5;28;01mfor\u001b[39;00m arr \u001b[38;5;129;01min\u001b[39;00m arrays]\n\u001b[1;32m    685\u001b[0m     \u001b[38;5;28;01mreturn\u001b[39;00m _concatenate(arrs, axis\u001b[38;5;241m=\u001b[39m\u001b[38;5;241m-\u001b[39m(max_depth\u001b[38;5;241m-\u001b[39mdepth))\n\u001b[1;32m    686\u001b[0m \u001b[38;5;28;01melse\u001b[39;00m:\n\u001b[1;32m    687\u001b[0m     \u001b[38;5;66;03m# We've 'bottomed out' - arrays is either a scalar or an array\u001b[39;00m\n\u001b[1;32m    688\u001b[0m     \u001b[38;5;66;03m# type(arrays) is not list\u001b[39;00m\n",
      "File \u001b[0;32m~/.local/lib/python3.10/site-packages/numpy/core/shape_base.py:683\u001b[0m, in \u001b[0;36m<listcomp>\u001b[0;34m(.0)\u001b[0m\n\u001b[1;32m    674\u001b[0m \u001b[38;5;250m\u001b[39m\u001b[38;5;124;03m\"\"\"\u001b[39;00m\n\u001b[1;32m    675\u001b[0m \u001b[38;5;124;03mInternal implementation of block based on repeated concatenation.\u001b[39;00m\n\u001b[1;32m    676\u001b[0m \u001b[38;5;124;03m`arrays` is the argument passed to\u001b[39;00m\n\u001b[0;32m   (...)\u001b[0m\n\u001b[1;32m    680\u001b[0m \u001b[38;5;124;03mfor details).\u001b[39;00m\n\u001b[1;32m    681\u001b[0m \u001b[38;5;124;03m\"\"\"\u001b[39;00m\n\u001b[1;32m    682\u001b[0m \u001b[38;5;28;01mif\u001b[39;00m depth \u001b[38;5;241m<\u001b[39m max_depth:\n\u001b[0;32m--> 683\u001b[0m     arrs \u001b[38;5;241m=\u001b[39m [\u001b[43m_block\u001b[49m\u001b[43m(\u001b[49m\u001b[43marr\u001b[49m\u001b[43m,\u001b[49m\u001b[43m \u001b[49m\u001b[43mmax_depth\u001b[49m\u001b[43m,\u001b[49m\u001b[43m \u001b[49m\u001b[43mresult_ndim\u001b[49m\u001b[43m,\u001b[49m\u001b[43m \u001b[49m\u001b[43mdepth\u001b[49m\u001b[38;5;241;43m+\u001b[39;49m\u001b[38;5;241;43m1\u001b[39;49m\u001b[43m)\u001b[49m\n\u001b[1;32m    684\u001b[0m             \u001b[38;5;28;01mfor\u001b[39;00m arr \u001b[38;5;129;01min\u001b[39;00m arrays]\n\u001b[1;32m    685\u001b[0m     \u001b[38;5;28;01mreturn\u001b[39;00m _concatenate(arrs, axis\u001b[38;5;241m=\u001b[39m\u001b[38;5;241m-\u001b[39m(max_depth\u001b[38;5;241m-\u001b[39mdepth))\n\u001b[1;32m    686\u001b[0m \u001b[38;5;28;01melse\u001b[39;00m:\n\u001b[1;32m    687\u001b[0m     \u001b[38;5;66;03m# We've 'bottomed out' - arrays is either a scalar or an array\u001b[39;00m\n\u001b[1;32m    688\u001b[0m     \u001b[38;5;66;03m# type(arrays) is not list\u001b[39;00m\n",
      "File \u001b[0;32m~/.local/lib/python3.10/site-packages/numpy/core/shape_base.py:685\u001b[0m, in \u001b[0;36m_block\u001b[0;34m(arrays, max_depth, result_ndim, depth)\u001b[0m\n\u001b[1;32m    682\u001b[0m \u001b[38;5;28;01mif\u001b[39;00m depth \u001b[38;5;241m<\u001b[39m max_depth:\n\u001b[1;32m    683\u001b[0m     arrs \u001b[38;5;241m=\u001b[39m [_block(arr, max_depth, result_ndim, depth\u001b[38;5;241m+\u001b[39m\u001b[38;5;241m1\u001b[39m)\n\u001b[1;32m    684\u001b[0m             \u001b[38;5;28;01mfor\u001b[39;00m arr \u001b[38;5;129;01min\u001b[39;00m arrays]\n\u001b[0;32m--> 685\u001b[0m     \u001b[38;5;28;01mreturn\u001b[39;00m \u001b[43m_concatenate\u001b[49m\u001b[43m(\u001b[49m\u001b[43marrs\u001b[49m\u001b[43m,\u001b[49m\u001b[43m \u001b[49m\u001b[43maxis\u001b[49m\u001b[38;5;241;43m=\u001b[39;49m\u001b[38;5;241;43m-\u001b[39;49m\u001b[43m(\u001b[49m\u001b[43mmax_depth\u001b[49m\u001b[38;5;241;43m-\u001b[39;49m\u001b[43mdepth\u001b[49m\u001b[43m)\u001b[49m\u001b[43m)\u001b[49m\n\u001b[1;32m    686\u001b[0m \u001b[38;5;28;01melse\u001b[39;00m:\n\u001b[1;32m    687\u001b[0m     \u001b[38;5;66;03m# We've 'bottomed out' - arrays is either a scalar or an array\u001b[39;00m\n\u001b[1;32m    688\u001b[0m     \u001b[38;5;66;03m# type(arrays) is not list\u001b[39;00m\n\u001b[1;32m    689\u001b[0m     \u001b[38;5;28;01mreturn\u001b[39;00m _atleast_nd(arrays, result_ndim)\n",
      "\u001b[0;31mValueError\u001b[0m: all the input array dimensions except for the concatenation axis must match exactly, but along dimension 0, the array at index 0 has size 256 and the array at index 1 has size 72"
     ]
    }
   ],
   "source": [
    "import toy_problem as tPb\n",
    "reload(tPb)\n",
    "\n",
    "\n",
    "theta_l = Lasso(tPb.y,tPb.X,tPb.sigma)\n"
   ]
  },
  {
   "cell_type": "markdown",
   "metadata": {},
   "source": [
    "> Investigate the differences between the Lasso and the Ground truth"
   ]
  },
  {
   "cell_type": "code",
   "execution_count": null,
   "metadata": {},
   "outputs": [],
   "source": [
    "import matplotlib.pyplot as plt\n",
    "%matplotlib inline\n",
    "\n",
    "plt.figure()\n",
    "plt.plot(tPb.theta,'ro',label='ground truth')\n",
    "plt.plot(theta_l,'k*',label='Lasso')\n",
    "plt.legend()\n",
    "plt.show()"
   ]
  },
  {
   "cell_type": "markdown",
   "metadata": {},
   "source": [
    "# Comparing and Improving\n",
    "\n",
    "\n",
    "> Compute the lasso and Dantzig selector solutions for the same problem and investigate their compared performance graphically and by computing the error on the null and non-null coordinates of theta.\n",
    "\n",
    "\n",
    "> Play with the values of $n,m,\\sigma, S$ to exhibit differences in behaviors.\n"
   ]
  },
  {
   "cell_type": "code",
   "execution_count": null,
   "metadata": {},
   "outputs": [],
   "source": [
    "import toy_problem as tPb\n",
    "reload(tPb)\n",
    "\n",
    "\n",
    "theta_l = Lasso(tPb.y,tPb.X,tPb.sigma)\n",
    "theta_ds = DantzigSelector(tPb.y,tPb.X,tPb.sigma)"
   ]
  },
  {
   "cell_type": "code",
   "execution_count": null,
   "metadata": {},
   "outputs": [],
   "source": [
    "import matplotlib.pyplot as plt\n",
    "%matplotlib inline\n",
    "\n",
    "plt.figure()\n",
    "plt.plot(tPb.theta,'ro',label='ground truth')\n",
    "plt.plot(theta_ds,'b*',label='Dantzig selector')\n",
    "plt.plot(theta_l,'k*',label='Lasso')\n",
    "plt.legend()\n",
    "plt.show()\n",
    "\n"
   ]
  },
  {
   "cell_type": "code",
   "execution_count": null,
   "metadata": {},
   "outputs": [],
   "source": [
    "import matplotlib.pyplot as plt\n",
    "%matplotlib inline\n",
    "\n",
    "\n",
    "\n",
    "plt.figure()\n",
    "plt.plot(tPb.theta[tPb.non_null],'ro',label='ground truth')\n",
    "plt.plot(theta_ds[tPb.non_null],'b*',label='Dantzig selector')\n",
    "plt.plot(theta_l[tPb.non_null],'k*',label='Lasso')\n",
    "plt.legend()\n",
    "plt.show()\n",
    "\n",
    "err_theta_DS = np.linalg.norm(theta_ds[tPb.non_null] -tPb.theta[tPb.non_null]  , ord=1)\n",
    "err_theta_L = np.linalg.norm(theta_l[tPb.non_null]-tPb.theta[tPb.non_null] , ord=1)\n",
    "\n",
    "print(\"Error on the non-null coefficients\\n Dantzig selec. \\t Lasso\")\n",
    "print(err_theta_DS,err_theta_L)"
   ]
  },
  {
   "cell_type": "code",
   "execution_count": null,
   "metadata": {},
   "outputs": [],
   "source": [
    "err_supp_DS = 0\n",
    "err_supp_L = 0\n",
    "for i in range(tPb.n):\n",
    "    if i not in  tPb.non_null:\n",
    "        err_supp_DS += np.abs(theta_ds[i])\n",
    "        err_supp_L += np.abs(theta_l[i])\n",
    "\n",
    "print(\"Error on the null coefficients\\n Dantzig selec. \\t Lasso\")\n",
    "print(float(err_supp_DS),float(err_supp_L))\n",
    "        "
   ]
  },
  {
   "cell_type": "code",
   "execution_count": null,
   "metadata": {},
   "outputs": [],
   "source": [
    "print(\"Error on y \\n Dantzig selec. \\t Lasso\")\n",
    "print(float(np.linalg.norm(np.dot(tPb.X, theta_ds ) - tPb.y )),float(np.linalg.norm(np.dot(tPb.X, theta_l ) - tPb.y )))   "
   ]
  },
  {
   "cell_type": "code",
   "execution_count": null,
   "metadata": {},
   "outputs": [],
   "source": [
    "print(\"Quadratic error \\n Dantzig selec. \\t Lasso\")\n",
    "print(float(np.linalg.norm(np.dot(tPb.X.T , np.dot(tPb.X, theta_ds ) - tPb.y ))),float(np.linalg.norm(np.dot(tPb.X.T , np.dot(tPb.X, theta_l ) - tPb.y )))) "
   ]
  },
  {
   "cell_type": "markdown",
   "metadata": {},
   "source": [
    "# To go further\n",
    "\n",
    "\n",
    "### Improved Estimators\n",
    "\n",
    "A popular improvement of these estimators is to weigh the threshold $\\kappa$ with the norm corresponding column of $X$.\n",
    "\n",
    "The improved Dantzig and Lasso estimators $\\widehat{\\theta'}_{DS}$ and $\\widehat{\\theta'}_{L}$  are thus solutions of  \n",
    "$$\n",
    "\\widehat{\\theta}_{DS} \\in \\arg\\min_{\\theta\\in \\mathbb{R}^n} \\left\\{\\|\\theta\\|_1,\\;\\mbox{with}\\;| [ X^T(X\\theta-y)]_i  | \\leq \\kappa_i \\sigma ~~ \\forall i\\right\\},\n",
    "$$\n",
    "and\n",
    "$$\n",
    "\\widehat{\\theta}_{L} \\in \\arg\\min_{\\theta\\in \\mathbb{R}^n} \\left\\{ \\|X\\theta - y\\|_2^2 + \\sum_{i=1}^n \\kappa_i \\sigma |\\theta_i | \\right\\},\n",
    "$$\n",
    "where $\\kappa_i = \\| X_i \\|_2 \\kappa = \\| X_i \\|_2 q_{\\mathcal{N}} \\left(1-\\frac{\\alpha}{2n}\\right) $ where $\\| X_i \\|_2$ is the $2$-norm of the $i$-th column of $X$.\n",
    "\n",
    "\n",
    "\n",
    "> Investigate the pertinence of this improvement. (Get rid of the normalization in the problem). "
   ]
  },
  {
   "cell_type": "code",
   "execution_count": null,
   "metadata": {},
   "outputs": [],
   "source": [
    "from cvxopt import matrix, solvers\n",
    "\n",
    "from scipy.stats import norm\n",
    "import numpy as np\n",
    "\n",
    "def DantzigSelectorImproved(y,X,sigma):\n",
    "    \n",
    "    # Extracting the sizes\n",
    "    m,n = X.shape\n",
    "    \n",
    "    # Computing kappa\n",
    "    alpha = 0.05\n",
    "    #### WARNING: Error in the question !\n",
    "    nu = 1 #max(np.linalg.norm(X, axis=0))\n",
    "    kappa = nu*norm.ppf(1-alpha/(2.0*n))\n",
    "    \n",
    "    # Kappa vector\n",
    "    kappa_vec = np.linalg.norm(X, ord=2, axis=0) * kappa\n",
    "    assert kappa_vec.shape == (n,)\n",
    "    \n",
    "    #####################################################\n",
    "    # COMPUTE AND SOLVE LP PROBLEM\n",
    "    #####################################################\n",
    "    # Prepare c, G, h\n",
    "    c_cvx = matrix(c)\n",
    "    G_cvx = matrix(G)\n",
    "    h_cvx = matrix(h)\n",
    "    \n",
    "    sol = solvers.conelp(c_cvx, G_cvx, h_cvx)\n",
    "    x_cvx = sol['x']\n",
    "    x = np.squeeze(np.array(x_cvx))\n",
    "    assert x.shape == (2*n,)\n",
    "    \n",
    "    theta = ... # x[:n]\n",
    "    assert theta.shape == (n,)\n",
    "    \n",
    "    return  theta"
   ]
  },
  {
   "cell_type": "code",
   "execution_count": null,
   "metadata": {},
   "outputs": [],
   "source": [
    "from cvxopt import matrix, solvers\n",
    "\n",
    "from scipy.stats import norm\n",
    "import numpy as np\n",
    "\n",
    "def LassoImproved(y,X,sigma):\n",
    "    \n",
    "    # Extracting the sizes\n",
    "    m,n = X.shape\n",
    "    \n",
    "    # Computing kappa\n",
    "    alpha = 0.05\n",
    "    nu = 1 # max(np.linalg.norm(X, axis=0))\n",
    "    kappa = nu*norm.ppf(1-alpha/(2.0*n))\n",
    "    \n",
    "    # Kappa vector\n",
    "    kappa_vec = np.linalg.norm(X, ord=2, axis=0) * kappa\n",
    "    assert kappa_vec.shape == (n,)\n",
    "    \n",
    "    #####################################################\n",
    "    # COMPUTE AND SOLVE QP PROBLEM\n",
    "    #####################################################\n",
    "    # Prepare P, q, G, h\n",
    "    P_cvx = matrix(P)\n",
    "    q_cvx = matrix(q)\n",
    "    G_cvx = matrix(G)\n",
    "    h_cvx = matrix(h)\n",
    "    \n",
    "    sol = solvers.qp(P_cvx, q_cvx, G_cvx, h_cvx)\n",
    "    x_cvx = sol['x']\n",
    "    x = np.squeeze(np.array(x_cvx))\n",
    "    assert x.shape == (2*n,)\n",
    "    \n",
    "    theta = x[:n]\n",
    "    assert theta.shape == (n,)\n",
    "    \n",
    "    return theta"
   ]
  },
  {
   "cell_type": "code",
   "execution_count": null,
   "metadata": {},
   "outputs": [],
   "source": [
    "import toy_problem as tPb\n",
    "reload(tPb)\n",
    "\n",
    "theta_l = Lasso(tPb.y,tPb.X,tPb.sigma)\n",
    "theta_ds = DantzigSelector(tPb.y,tPb.X,tPb.sigma)\n",
    "theta_li = LassoImproved(tPb.y,tPb.X,tPb.sigma)\n",
    "theta_dsi = DantzigSelectorImproved(tPb.y,tPb.X,tPb.sigma)"
   ]
  },
  {
   "cell_type": "code",
   "execution_count": null,
   "metadata": {},
   "outputs": [],
   "source": [
    "import matplotlib.pyplot as plt\n",
    "%matplotlib inline\n",
    "\n",
    "plt.figure()\n",
    "plt.plot(tPb.theta,'ro',label='ground truth')\n",
    "plt.plot(theta_ds,'b*',label='Dantzig selector')\n",
    "plt.plot(theta_l,'k*',label='Lasso')\n",
    "plt.plot(theta_dsi,'g*',label='Improved Dantzig selector')\n",
    "plt.plot(theta_li,'y*',label='Improved Lasso')\n",
    "plt.legend()\n",
    "plt.show()"
   ]
  },
  {
   "cell_type": "code",
   "execution_count": null,
   "metadata": {},
   "outputs": [],
   "source": [
    "err_theta_DS = np.linalg.norm(theta_ds[tPb.non_null] -tPb.theta[tPb.non_null]  , ord=1)\n",
    "err_theta_L = np.linalg.norm(theta_l[tPb.non_null]-tPb.theta[tPb.non_null] , ord=1)\n",
    "err_theta_DSI = np.linalg.norm(theta_dsi[tPb.non_null] -tPb.theta[tPb.non_null]  , ord=1)\n",
    "err_theta_LI = np.linalg.norm(theta_li[tPb.non_null]-tPb.theta[tPb.non_null] , ord=1)\n",
    "\n",
    "print(\"Error on the non-null coefficients\")\n",
    "print(err_theta_DS,err_theta_L, err_theta_DSI, err_theta_LI)"
   ]
  },
  {
   "cell_type": "markdown",
   "metadata": {},
   "source": [
    "### Crossed Validation of the thresholds\n",
    "\n",
    "The values of $\\kappa$ is heavily linked to the noise standard deviation $\\sigma$ and theoretical considerations about $X$ and $\\theta$. A practical way to choose $\\kappa$ without the knowledge of $\\sigma$ is to use *cross-validation*.\n",
    "\n",
    "- Split y and X in two parts column-wise, one part for *training* and one for *testing*.\n",
    "- For several values of $\\kappa$, solve the estimation problem *on the training part* using $\\kappa$ to get a estimate $\\widehat{\\theta}_\\kappa$.\n",
    "- For each $\\widehat{\\theta}_\\kappa$, compute the error *on the testing part* $e(\\kappa) = \\| y_{test}-X_{test}\\widehat{\\theta}_\\kappa \\|$.  \n",
    "- Choose the value that minimize this error $\\widehat{\\kappa} = \\arg \\min_{\\kappa} e(\\kappa)$.\n",
    "\n",
    "\n",
    "> Implement a cross validation procedure to choose $\\kappa$. Compare the value and the outputted estimate with the theoretic value."
   ]
  },
  {
   "cell_type": "code",
   "execution_count": null,
   "metadata": {},
   "outputs": [],
   "source": []
  }
 ],
 "metadata": {
  "kernelspec": {
   "display_name": "Python 3",
   "language": "python",
   "name": "python3"
  },
  "language_info": {
   "codemirror_mode": {
    "name": "ipython",
    "version": 3
   },
   "file_extension": ".py",
   "mimetype": "text/x-python",
   "name": "python",
   "nbconvert_exporter": "python",
   "pygments_lexer": "ipython3",
   "version": "3.10.12"
  }
 },
 "nbformat": 4,
 "nbformat_minor": 4
}
